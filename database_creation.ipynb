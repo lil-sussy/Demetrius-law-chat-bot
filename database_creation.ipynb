{
	"cells": [
		{
			"cell_type": "markdown",
			"metadata": {},
			"source": [
				"# Downloading French Legal Codes\n",
				"\n",
				"This notebook demonstrates how to download various French legal codes from Légifrance and save them into HTML files. The codes include the Civil Code, Penal Code, Commercial Code, and many others.\n",
				"\n",
				"## Legal Codes Included\n",
				"1. Code de l'action sociale et des familles\n",
				"2. Code de l'artisanat\n",
				"3. Code des assurances\n",
				"4. Code de l'aviation civile\n",
				"5. Code du cinéma et de l'image animée\n",
				"6. Code civil V\n",
				"7. Code de la commande publiqu\n",
				"8. Code de commerce V\n",
				"9. Code des communes V\n",
				"10. Code de la consommation\n",
				"11. Code de la construction et de l'habitation\n",
				"12. Code de la défense\n",
				"13. Code de l'éducation\n",
				"14. Code électoral\n",
				"15. Code de l'énergie\n",
				"16. Code de l'environnement\n",
				"17. Code de l'entrée et du séjour des étrangers et du droit d'asile\n",
				"18. Code général des collectivités territoriales\n",
				"19. Code général des impôts\n",
				"20. Code général de la fonction publique\n"
			]
		},
		{
			"cell_type": "code",
			"execution_count": 1,
			"metadata": {},
			"outputs": [
				{
					"name": "stdout",
					"output_type": "stream",
					"text": [
						"Downloaded Code de l'action sociale et des familles\n",
						"Downloaded Code de l'artisanat\n",
						"Downloaded Code des assurances\n",
						"Downloaded Code de l'aviation civile\n",
						"Downloaded Code du cinéma et de l'image animée\n",
						"Downloaded Code civil\n",
						"Downloaded Code de la commande publique\n",
						"Downloaded Code de commerce\n",
						"Downloaded Code des communes\n",
						"Downloaded Code de la consommation\n",
						"Downloaded Code de la construction et de l'habitation\n",
						"Downloaded Code de la défense\n",
						"Downloaded Code de l'éducation\n",
						"Downloaded Code électoral\n",
						"Downloaded Code de l'énergie\n",
						"Downloaded Code de l'environnement\n",
						"Downloaded Code de l'entrée et du séjour des étrangers et du droit d'asile\n",
						"Downloaded Code général des collectivités territoriales\n",
						"Downloaded Code général des impôts\n",
						"Downloaded Code général de la fonction publique\n",
						"All codes have been downloaded.\n"
					]
				}
			],
			"source": [
				"import requests\n",
				"from bs4 import BeautifulSoup\n",
				"\n",
				"# Dictionary of legal codes and their URLs on Légifrance\n",
				"codes = {\n",
				"    \"Code de l'action sociale et des familles\": \"https://www.legifrance.gouv.fr/codes/texte_lc/LEGITEXT000006074069/\",\n",
				"    \"Code de l'artisanat\": \"https://www.legifrance.gouv.fr/codes/texte_lc/LEGITEXT000006071172/\",\n",
				"    \"Code des assurances\": \"https://www.legifrance.gouv.fr/codes/texte_lc/LEGITEXT000006073984/\",\n",
				"    \"Code de l'aviation civile\": \"https://www.legifrance.gouv.fr/codes/texte_lc/LEGITEXT000006074234/\",\n",
				"    \"Code du cinéma et de l'image animée\": \"https://www.legifrance.gouv.fr/codes/texte_lc/LEGITEXT000021052081/\",\n",
				"    \"Code civil\": \"https://www.legifrance.gouv.fr/codes/texte_lc/LEGITEXT000006070721/\",\n",
				"    \"Code de la commande publique\": \"https://www.legifrance.gouv.fr/codes/texte_lc/LEGITEXT000037701019/\",\n",
				"    \"Code de commerce\": \"https://www.legifrance.gouv.fr/codes/texte_lc/LEGITEXT000005634379/\",\n",
				"    \"Code des communes\": \"https://www.legifrance.gouv.fr/codes/texte_lc/LEGITEXT000006070687/\",\n",
				"    \"Code de la consommation\": \"https://www.legifrance.gouv.fr/codes/texte_lc/LEGITEXT000006069565/\",\n",
				"    \"Code de la construction et de l'habitation\": \"https://www.legifrance.gouv.fr/codes/texte_lc/LEGITEXT000006074096/\",\n",
				"    \"Code de la défense\": \"https://www.legifrance.gouv.fr/codes/texte_lc/LEGITEXT000006071307/\",\n",
				"    \"Code de l'éducation\": \"https://www.legifrance.gouv.fr/codes/texte_lc/LEGITEXT000006071191/\",\n",
				"    \"Code électoral\": \"https://www.legifrance.gouv.fr/codes/texte_lc/LEGITEXT000006070239/\",\n",
				"    \"Code de l'énergie\": \"https://www.legifrance.gouv.fr/codes/texte_lc/LEGITEXT000023983208/\",\n",
				"    \"Code de l'environnement\": \"https://www.legifrance.gouv.fr/codes/texte_lc/LEGITEXT000006074220/\",\n",
				"    \"Code de l'entrée et du séjour des étrangers et du droit d'asile\": \"https://www.legifrance.gouv.fr/codes/texte_lc/LEGITEXT000006070158/\",\n",
				"    \"Code général des collectivités territoriales\": \"https://www.legifrance.gouv.fr/codes/texte_lc/LEGITEXT000006070633/\",\n",
				"    \"Code général des impôts\": \"https://www.legifrance.gouv.fr/codes/texte_lc/LEGITEXT000006069577/\",\n",
				"    \"Code général de la fonction publique\": \"https://www.legifrance.gouv.fr/codes/texte_lc/LEGITEXT000045583688/\"\n",
				"}\n",
				"\n",
				"def download_code(url, filename):\n",
				"    response = requests.get(url)\n",
				"    soup = BeautifulSoup(response.content, 'html.parser')\n",
				"    content = soup.prettify()\n",
				"\n",
				"    with open(filename, 'w', encoding='utf-8') as file:\n",
				"        file.write(content)\n",
				"\n",
				"for code_name, url in codes.items():\n",
				"    filename = f\"{code_name.replace(' ', '_')}.html\"\n",
				"    download_code(url, filename)\n",
				"    print(f\"Downloaded {code_name}\")\n",
				"\n",
				"print(\"All codes have been downloaded.\")"
			]
		}
	],
	"metadata": {
		"kernelspec": {
			"display_name": "Python 3",
			"language": "python",
			"name": "python3"
		},
		"language_info": {
			"codemirror_mode": {
				"name": "ipython",
				"version": 3
			},
			"file_extension": ".py",
			"mimetype": "text/x-python",
			"name": "python",
			"nbconvert_exporter": "python",
			"pygments_lexer": "ipython3",
			"version": "3.10.12"
		}
	},
	"nbformat": 4,
	"nbformat_minor": 4
}
