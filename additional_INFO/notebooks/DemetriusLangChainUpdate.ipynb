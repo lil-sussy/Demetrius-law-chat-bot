{
 "cells": [
  {
   "cell_type": "code",
   "execution_count": 2,
   "metadata": {},
   "outputs": [],
   "source": [
    "from langchain.chains import ConversationalRetrievalChain\n",
    "from langchain.chat_models import ChatOpenAI\n",
    "from langchain.memory import ConversationBufferMemory\n",
    "from langchain.retrievers.self_query.base import SelfQueryRetriever\n",
    "import datetime\n",
    "import chromadb\n",
    "import requests\n",
    "from django.views import View\n",
    "from django.utils.decorators import method_decorator\n",
    "from django.views.decorators.csrf import csrf_exempt\n",
    "\n",
    "from dotenv import load_dotenv\n",
    "from nltk.corpus import stopwords\n",
    "from os import walk\n",
    "from decouple import config\n",
    "import os\n",
    "import getpass\n",
    "\n",
    "api_key = config('OPENAI_TOKEN')\n",
    "os.environ[\"OPENAI_API_KEY\"] = str(api_key)\n",
    "MAX_QUERY_DOCUMENTS = 5\n",
    "DISTANCE_THRESHOLD = 0.43  # Arbitrary value\n",
    "LAW_COLLECTIONS_DB = '../../database/chromadb/law_collections'\n",
    "\n",
    "INPUT_TOKEN_PRICING = 0.01 #$ / 1K tokens\n",
    "OUTPUT_TOKEN_PRICING = 0.03 #$ / 1K tokens"
   ]
  },
  {
   "cell_type": "code",
   "execution_count": 3,
   "metadata": {},
   "outputs": [],
   "source": [
    "from langchain.embeddings.openai import OpenAIEmbeddings\n",
    "from langchain.schema import Document\n",
    "from langchain.vectorstores import Chroma\n",
    "embeddings = OpenAIEmbeddings()\n",
    "vectorstores = {}\n",
    "\n",
    "client = chromadb.PersistentClient(path=LAW_COLLECTIONS_DB)\n",
    "for collection in client.list_collections():\n",
    "    docs = []\n",
    "    collection_content = collection.get()\n",
    "    for i, document in enumerate(collection_content['documents']):\n",
    "        docs.append(Document(page_content=document, metadata=collection_content['metadatas'][i]))\n",
    "    vectorstores[collection.name] = Chroma.from_documents(docs, embeddings)"
   ]
  },
  {
   "cell_type": "code",
   "execution_count": 20,
   "metadata": {},
   "outputs": [
    {
     "data": {
      "text/plain": [
       "dict_keys(['NON_CITIZENS_PROPERTY_RESTRICTION_ACT', 'INSOLVENCY_ACT_2009', 'THE_INTERPRETATION_AND_GENERAL_CLAUSES_ACT_1974', 'COMPANIES_REGULATIONS', 'THE_COMPANIES_ACT_2001', 'THE_INSOLVENCY_REGULATIONS_2020'])"
      ]
     },
     "execution_count": 20,
     "metadata": {},
     "output_type": "execute_result"
    }
   ],
   "source": [
    "vectorstores.keys()"
   ]
  },
  {
   "cell_type": "code",
   "execution_count": 4,
   "metadata": {},
   "outputs": [],
   "source": [
    "from langchain.chains.query_constructor.schema import AttributeInfo\n",
    "from langchain.llms import OpenAI\n",
    "from langchain.retrievers.self_query.base import SelfQueryRetriever\n",
    "metadata_field_info = [\n",
    "    AttributeInfo(\n",
    "        name=\"begin_page\",\n",
    "        description=\"The number of the page where the section begins\",\n",
    "        type=\"number\",\n",
    "    ),\n",
    "    AttributeInfo(\n",
    "        name=\"section_number\",\n",
    "        description=\"The number of the section\",\n",
    "        type=\"number\",\n",
    "    ),\n",
    "    AttributeInfo(\n",
    "        name=\"document_name\",\n",
    "        description=\"The name of the law from whihc the section is extracted\",\n",
    "        type=\"string\",\n",
    "    ),\n",
    "    AttributeInfo(\n",
    "        name=\"document_path\",\n",
    "        description=\"Irrelevant\",\n",
    "        type=\"string\",\n",
    "    ),\n",
    "    AttributeInfo(\n",
    "        name=\"part_title\",\n",
    "        description=\"The title of the part where the section is extracted\",\n",
    "        type=\"string\",\n",
    "    ),\n",
    "]\n",
    "document_content_description = \"The companies act 2001 of Mauritius\"\n",
    "llm = ChatOpenAI(temperature=0, model=\"gpt-4-1106-preview\")\n",
    "retriever = SelfQueryRetriever.from_llm(\n",
    "    llm, vectorstores[\"THE_COMPANIES_ACT_2001\"], document_content_description, metadata_field_info, verbose=True\n",
    ")\n"
   ]
  },
  {
   "cell_type": "code",
   "execution_count": 5,
   "metadata": {},
   "outputs": [
    {
     "data": {
      "text/plain": [
       "\"I'm sorry, but I don't have access to the specific text of the Companies Act 2001, including section 161 regarding indemnity and insurance. To get an accurate summary of that section, you would need to consult the actual legislation or legal resources that can provide you with the details of that provision. Legal professionals or official government resources could also assist you in understanding the specifics of the law. If you have access to the text of the law, I could help summarize it, but without the text, I'm unable to provide you with the information you're seeking.\""
      ]
     },
     "execution_count": 5,
     "metadata": {},
     "output_type": "execute_result"
    }
   ],
   "source": [
    "memory = ConversationBufferMemory(memory_key='chat_history', return_messages=True)\n",
    "conversation_chain = ConversationalRetrievalChain.from_llm(\n",
    "    llm=llm,\n",
    "    retriever=retriever,\n",
    "    memory=memory\n",
    ")\n",
    "prompt = \"Can you summarize the section 161 indemnity and insurance of the companies act 2001 ?\"\n",
    "conversation_chain.run(prompt)"
   ]
  },
  {
   "cell_type": "code",
   "execution_count": 8,
   "metadata": {},
   "outputs": [
    {
     "data": {
      "text/plain": [
       "[]"
      ]
     },
     "execution_count": 8,
     "metadata": {},
     "output_type": "execute_result"
    }
   ],
   "source": [
    "retrieved_documents = retriever.get_relevant_documents(prompt)\n",
    "retrieved_documents"
   ]
  },
  {
   "cell_type": "code",
   "execution_count": null,
   "metadata": {},
   "outputs": [],
   "source": []
  }
 ],
 "metadata": {
  "kernelspec": {
   "display_name": "demetrius-ToXauiEp-py3.10",
   "language": "python",
   "name": "python3"
  },
  "language_info": {
   "codemirror_mode": {
    "name": "ipython",
    "version": 3
   },
   "file_extension": ".py",
   "mimetype": "text/x-python",
   "name": "python",
   "nbconvert_exporter": "python",
   "pygments_lexer": "ipython3",
   "version": "3.10.12"
  }
 },
 "nbformat": 4,
 "nbformat_minor": 2
}
